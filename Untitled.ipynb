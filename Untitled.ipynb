{
 "cells": [
  {
   "cell_type": "code",
   "execution_count": 1,
   "metadata": {
    "editable": true
   },
   "outputs": [
    {
     "name": "stdout",
     "output_type": "stream",
     "text": [
      "Requirement already satisfied: great_expectations in /opt/conda/lib/python3.6/site-packages (0.13.19)\n",
      "Requirement already satisfied: jinja2>=2.10 in /opt/conda/lib/python3.6/site-packages (from great_expectations) (2.10)\n",
      "Requirement already satisfied: pandas>=0.23.0 in /opt/conda/lib/python3.6/site-packages (from great_expectations) (0.23.3)\n",
      "Requirement already satisfied: requests>=2.20 in /opt/conda/lib/python3.6/site-packages (from great_expectations) (2.25.1)\n",
      "Requirement already satisfied: tqdm>=4.59.0 in /opt/conda/lib/python3.6/site-packages (from great_expectations) (4.61.1)\n",
      "Requirement already satisfied: ruamel.yaml>=0.16 in /opt/conda/lib/python3.6/site-packages (from great_expectations) (0.17.9)\n",
      "Requirement already satisfied: python-dateutil>=2.8.1 in /opt/conda/lib/python3.6/site-packages (from great_expectations) (2.8.1)\n",
      "Requirement already satisfied: jsonpatch>=1.22 in /opt/conda/lib/python3.6/site-packages (from great_expectations) (1.32)\n",
      "Requirement already satisfied: Click>=7.1.2 in /opt/conda/lib/python3.6/site-packages (from great_expectations) (8.0.1)\n",
      "Requirement already satisfied: ipywidgets>=7.5.1 in /opt/conda/lib/python3.6/site-packages (from great_expectations) (7.6.3)\n",
      "Requirement already satisfied: termcolor>=1.1.0 in /opt/conda/lib/python3.6/site-packages (from great_expectations) (1.1.0)\n",
      "Requirement already satisfied: scipy>=0.19.0 in /opt/conda/lib/python3.6/site-packages (from great_expectations) (1.2.1)\n",
      "Requirement already satisfied: jsonschema>=2.5.1 in /opt/conda/lib/python3.6/site-packages (from great_expectations) (2.6.0)\n",
      "Requirement already satisfied: pyparsing<3,>=2.4 in /opt/conda/lib/python3.6/site-packages (from great_expectations) (2.4.7)\n",
      "Requirement already satisfied: mistune>=0.8.4 in /opt/conda/lib/python3.6/site-packages (from great_expectations) (0.8.4)\n",
      "Requirement already satisfied: altair<5,>=4.0.0 in /opt/conda/lib/python3.6/site-packages (from great_expectations) (4.1.0)\n",
      "Requirement already satisfied: importlib-metadata>=1.7.0 in /opt/conda/lib/python3.6/site-packages (from great_expectations) (4.5.0)\n",
      "Requirement already satisfied: pytz>=2015.6 in /opt/conda/lib/python3.6/site-packages (from great_expectations) (2017.3)\n",
      "Requirement already satisfied: tzlocal>=1.2 in /opt/conda/lib/python3.6/site-packages (from great_expectations) (2.1)\n",
      "Requirement already satisfied: numpy<1.20.0,>=1.14.1 in /opt/conda/lib/python3.6/site-packages (from great_expectations) (1.19.5)\n",
      "Requirement already satisfied: MarkupSafe>=0.23 in /opt/conda/lib/python3.6/site-packages (from jinja2>=2.10->great_expectations) (1.0)\n",
      "Requirement already satisfied: chardet<5,>=3.0.2 in /opt/conda/lib/python3.6/site-packages (from requests>=2.20->great_expectations) (3.0.4)\n",
      "Requirement already satisfied: certifi>=2017.4.17 in /opt/conda/lib/python3.6/site-packages (from requests>=2.20->great_expectations) (2019.11.28)\n",
      "Requirement already satisfied: urllib3<1.27,>=1.21.1 in /opt/conda/lib/python3.6/site-packages (from requests>=2.20->great_expectations) (1.22)\n",
      "Requirement already satisfied: idna<3,>=2.5 in /opt/conda/lib/python3.6/site-packages (from requests>=2.20->great_expectations) (2.6)\n",
      "Requirement already satisfied: ruamel.yaml.clib>=0.1.2; platform_python_implementation == \"CPython\" and python_version < \"3.10\" in /opt/conda/lib/python3.6/site-packages (from ruamel.yaml>=0.16->great_expectations) (0.2.2)\n",
      "Requirement already satisfied: six>=1.5 in /opt/conda/lib/python3.6/site-packages (from python-dateutil>=2.8.1->great_expectations) (1.11.0)\n",
      "Requirement already satisfied: jsonpointer>=1.9 in /opt/conda/lib/python3.6/site-packages (from jsonpatch>=1.22->great_expectations) (2.1)\n",
      "Requirement already satisfied: ipykernel>=4.5.1 in /opt/conda/lib/python3.6/site-packages (from ipywidgets>=7.5.1->great_expectations) (4.9.0)\n",
      "Requirement already satisfied: ipython>=4.0.0; python_version >= \"3.3\" in /opt/conda/lib/python3.6/site-packages (from ipywidgets>=7.5.1->great_expectations) (6.5.0)\n",
      "Requirement already satisfied: traitlets>=4.3.1 in /opt/conda/lib/python3.6/site-packages (from ipywidgets>=7.5.1->great_expectations) (4.3.2)\n",
      "Requirement already satisfied: nbformat>=4.2.0 in /opt/conda/lib/python3.6/site-packages (from ipywidgets>=7.5.1->great_expectations) (4.4.0)\n",
      "Requirement already satisfied: widgetsnbextension~=3.5.0 in /opt/conda/lib/python3.6/site-packages (from ipywidgets>=7.5.1->great_expectations) (3.5.1)\n",
      "Requirement already satisfied: jupyterlab-widgets>=1.0.0; python_version >= \"3.6\" in /opt/conda/lib/python3.6/site-packages (from ipywidgets>=7.5.1->great_expectations) (1.0.0)\n",
      "Requirement already satisfied: toolz in /opt/conda/lib/python3.6/site-packages (from altair<5,>=4.0.0->great_expectations) (0.8.2)\n",
      "Requirement already satisfied: entrypoints in /opt/conda/lib/python3.6/site-packages (from altair<5,>=4.0.0->great_expectations) (0.2.3)\n",
      "Requirement already satisfied: zipp>=0.5 in /opt/conda/lib/python3.6/site-packages (from importlib-metadata>=1.7.0->great_expectations) (3.4.1)\n",
      "Requirement already satisfied: typing-extensions>=3.6.4; python_version < \"3.8\" in /opt/conda/lib/python3.6/site-packages (from importlib-metadata>=1.7.0->great_expectations) (3.10.0.0)\n",
      "Requirement already satisfied: jupyter_client in /opt/conda/lib/python3.6/site-packages (from ipykernel>=4.5.1->ipywidgets>=7.5.1->great_expectations) (5.2.4)\n",
      "Requirement already satisfied: tornado>=4.0 in /opt/conda/lib/python3.6/site-packages (from ipykernel>=4.5.1->ipywidgets>=7.5.1->great_expectations) (4.5.3)\n",
      "Requirement already satisfied: pickleshare in /opt/conda/lib/python3.6/site-packages (from ipython>=4.0.0; python_version >= \"3.3\"->ipywidgets>=7.5.1->great_expectations) (0.7.4)\n",
      "Requirement already satisfied: simplegeneric>0.8 in /opt/conda/lib/python3.6/site-packages (from ipython>=4.0.0; python_version >= \"3.3\"->ipywidgets>=7.5.1->great_expectations) (0.8.1)\n",
      "Requirement already satisfied: jedi>=0.10 in /opt/conda/lib/python3.6/site-packages (from ipython>=4.0.0; python_version >= \"3.3\"->ipywidgets>=7.5.1->great_expectations) (0.10.2)\n",
      "Requirement already satisfied: prompt-toolkit<2.0.0,>=1.0.15 in /opt/conda/lib/python3.6/site-packages (from ipython>=4.0.0; python_version >= \"3.3\"->ipywidgets>=7.5.1->great_expectations) (1.0.15)\n",
      "Requirement already satisfied: pexpect; sys_platform != \"win32\" in /opt/conda/lib/python3.6/site-packages (from ipython>=4.0.0; python_version >= \"3.3\"->ipywidgets>=7.5.1->great_expectations) (4.3.1)\n",
      "Requirement already satisfied: setuptools>=18.5 in /opt/conda/lib/python3.6/site-packages (from ipython>=4.0.0; python_version >= \"3.3\"->ipywidgets>=7.5.1->great_expectations) (38.4.0)\n",
      "Requirement already satisfied: backcall in /opt/conda/lib/python3.6/site-packages (from ipython>=4.0.0; python_version >= \"3.3\"->ipywidgets>=7.5.1->great_expectations) (0.1.0)\n",
      "Requirement already satisfied: decorator in /opt/conda/lib/python3.6/site-packages (from ipython>=4.0.0; python_version >= \"3.3\"->ipywidgets>=7.5.1->great_expectations) (4.0.11)\n",
      "Requirement already satisfied: pygments in /opt/conda/lib/python3.6/site-packages (from ipython>=4.0.0; python_version >= \"3.3\"->ipywidgets>=7.5.1->great_expectations) (2.2.0)\n",
      "Requirement already satisfied: ipython-genutils in /opt/conda/lib/python3.6/site-packages (from traitlets>=4.3.1->ipywidgets>=7.5.1->great_expectations) (0.2.0)\n",
      "Requirement already satisfied: jupyter-core in /opt/conda/lib/python3.6/site-packages (from nbformat>=4.2.0->ipywidgets>=7.5.1->great_expectations) (4.4.0)\n",
      "Requirement already satisfied: notebook>=4.4.1 in /opt/conda/lib/python3.6/site-packages (from widgetsnbextension~=3.5.0->ipywidgets>=7.5.1->great_expectations) (5.7.0)\n",
      "Requirement already satisfied: pyzmq>=13 in /opt/conda/lib/python3.6/site-packages (from jupyter_client->ipykernel>=4.5.1->ipywidgets>=7.5.1->great_expectations) (17.1.2)\n",
      "Requirement already satisfied: wcwidth in /opt/conda/lib/python3.6/site-packages (from prompt-toolkit<2.0.0,>=1.0.15->ipython>=4.0.0; python_version >= \"3.3\"->ipywidgets>=7.5.1->great_expectations) (0.1.7)\n",
      "Requirement already satisfied: ptyprocess>=0.5 in /opt/conda/lib/python3.6/site-packages (from pexpect; sys_platform != \"win32\"->ipython>=4.0.0; python_version >= \"3.3\"->ipywidgets>=7.5.1->great_expectations) (0.5.2)\n",
      "Requirement already satisfied: nbconvert in /opt/conda/lib/python3.6/site-packages (from notebook>=4.4.1->widgetsnbextension~=3.5.0->ipywidgets>=7.5.1->great_expectations) (5.4.0)\n",
      "Requirement already satisfied: Send2Trash in /opt/conda/lib/python3.6/site-packages (from notebook>=4.4.1->widgetsnbextension~=3.5.0->ipywidgets>=7.5.1->great_expectations) (1.5.0)\n",
      "Requirement already satisfied: terminado>=0.8.1 in /opt/conda/lib/python3.6/site-packages (from notebook>=4.4.1->widgetsnbextension~=3.5.0->ipywidgets>=7.5.1->great_expectations) (0.8.1)\n",
      "Requirement already satisfied: prometheus_client in /opt/conda/lib/python3.6/site-packages (from notebook>=4.4.1->widgetsnbextension~=3.5.0->ipywidgets>=7.5.1->great_expectations) (0.3.1)\n",
      "Requirement already satisfied: bleach in /opt/conda/lib/python3.6/site-packages (from nbconvert->notebook>=4.4.1->widgetsnbextension~=3.5.0->ipywidgets>=7.5.1->great_expectations) (1.5.0)\n",
      "Requirement already satisfied: pandocfilters>=1.4.1 in /opt/conda/lib/python3.6/site-packages (from nbconvert->notebook>=4.4.1->widgetsnbextension~=3.5.0->ipywidgets>=7.5.1->great_expectations) (1.4.1)\n",
      "Requirement already satisfied: testpath in /opt/conda/lib/python3.6/site-packages (from nbconvert->notebook>=4.4.1->widgetsnbextension~=3.5.0->ipywidgets>=7.5.1->great_expectations) (0.3.1)\n",
      "Requirement already satisfied: defusedxml in /opt/conda/lib/python3.6/site-packages (from nbconvert->notebook>=4.4.1->widgetsnbextension~=3.5.0->ipywidgets>=7.5.1->great_expectations) (0.5.0)\n",
      "Requirement already satisfied: html5lib!=0.9999,!=0.99999,<0.99999999,>=0.999 in /opt/conda/lib/python3.6/site-packages (from bleach->nbconvert->notebook>=4.4.1->widgetsnbextension~=3.5.0->ipywidgets>=7.5.1->great_expectations) (0.9999999)\n",
      "Requirement already satisfied: black in /opt/conda/lib/python3.6/site-packages (21.6b0)\n",
      "Requirement already satisfied: toml>=0.10.1 in /opt/conda/lib/python3.6/site-packages (from black) (0.10.2)\n",
      "Requirement already satisfied: mypy-extensions>=0.4.3 in /opt/conda/lib/python3.6/site-packages (from black) (0.4.3)\n",
      "Requirement already satisfied: appdirs in /opt/conda/lib/python3.6/site-packages (from black) (1.4.4)\n",
      "Requirement already satisfied: typed-ast>=1.4.2; python_version < \"3.8\" in /opt/conda/lib/python3.6/site-packages (from black) (1.4.3)\n",
      "Requirement already satisfied: click>=7.1.2 in /opt/conda/lib/python3.6/site-packages (from black) (8.0.1)\n",
      "Requirement already satisfied: regex>=2020.1.8 in /opt/conda/lib/python3.6/site-packages (from black) (2021.4.4)\n",
      "Requirement already satisfied: dataclasses>=0.6; python_version < \"3.7\" in /opt/conda/lib/python3.6/site-packages (from black) (0.8)\n",
      "Requirement already satisfied: typing-extensions>=3.7.4; python_version < \"3.8\" in /opt/conda/lib/python3.6/site-packages (from black) (3.10.0.0)\n",
      "Requirement already satisfied: pathspec<1,>=0.8.1 in /opt/conda/lib/python3.6/site-packages (from black) (0.8.1)\n",
      "Requirement already satisfied: importlib-metadata; python_version < \"3.8\" in /opt/conda/lib/python3.6/site-packages (from click>=7.1.2->black) (4.5.0)\n",
      "Requirement already satisfied: zipp>=0.5 in /opt/conda/lib/python3.6/site-packages (from importlib-metadata; python_version < \"3.8\"->click>=7.1.2->black) (3.4.1)\n"
     ]
    }
   ],
   "source": [
    "!pip install great_expectations\n",
    "!pip install black"
   ]
  },
  {
   "cell_type": "code",
   "execution_count": null,
   "metadata": {
    "editable": true
   },
   "outputs": [
    {
     "name": "stdout",
     "output_type": "stream",
     "text": [
      "Using v2 (Batch Kwargs) API\u001b[0m\n",
      "\u001b[36m\n",
      "  ___              _     ___                  _        _   _\n",
      " / __|_ _ ___ __ _| |_  | __|_ ___ __  ___ __| |_ __ _| |_(_)___ _ _  ___\n",
      "| (_ | '_/ -_) _` |  _| | _|\\ \\ / '_ \\/ -_) _|  _/ _` |  _| / _ \\ ' \\(_-<\n",
      " \\___|_| \\___\\__,_|\\__| |___/_\\_\\ .__/\\___\\__|\\__\\__,_|\\__|_\\___/_||_/__/\n",
      "                                |_|\n",
      "             ~ Always know what to expect from your data ~\n",
      "\u001b[0m\u001b[0m\n",
      "This looks like an existing project that \u001b[32mappears complete!\u001b[0m You are \u001b[32mready to roll.\u001b[0m\n",
      "\u001b[0m\n",
      "\n",
      "Great Expectations added some missing files required to run.\n",
      "  - You may see new files in `\u001b[33mgreat_expectations/uncommitted\u001b[0m`.\n",
      "  - You may need to add secrets to `\u001b[33mgreat_expectations/uncommitted/config_variables.yml\u001b[0m` to finish onboarding.\n",
      "\u001b[0m\n",
      "Would you like to build & view this project's Data Docs!? [Y/n]: "
     ]
    }
   ],
   "source": [
    "!great_expectations init"
   ]
  },
  {
   "cell_type": "code",
   "execution_count": null,
   "metadata": {
    "editable": true
   },
   "outputs": [],
   "source": []
  },
  {
   "cell_type": "code",
   "execution_count": null,
   "metadata": {
    "editable": true
   },
   "outputs": [],
   "source": []
  },
  {
   "cell_type": "code",
   "execution_count": null,
   "metadata": {
    "editable": true
   },
   "outputs": [],
   "source": []
  },
  {
   "cell_type": "code",
   "execution_count": null,
   "metadata": {
    "editable": true
   },
   "outputs": [],
   "source": []
  },
  {
   "cell_type": "code",
   "execution_count": null,
   "metadata": {
    "editable": true
   },
   "outputs": [],
   "source": []
  },
  {
   "cell_type": "code",
   "execution_count": null,
   "metadata": {
    "editable": true
   },
   "outputs": [],
   "source": []
  },
  {
   "cell_type": "code",
   "execution_count": null,
   "metadata": {
    "editable": true
   },
   "outputs": [],
   "source": []
  },
  {
   "cell_type": "code",
   "execution_count": null,
   "metadata": {
    "editable": true
   },
   "outputs": [],
   "source": []
  },
  {
   "cell_type": "code",
   "execution_count": null,
   "metadata": {
    "editable": true
   },
   "outputs": [],
   "source": []
  },
  {
   "cell_type": "code",
   "execution_count": null,
   "metadata": {
    "editable": true
   },
   "outputs": [],
   "source": []
  },
  {
   "cell_type": "code",
   "execution_count": null,
   "metadata": {
    "editable": true
   },
   "outputs": [],
   "source": []
  },
  {
   "cell_type": "code",
   "execution_count": null,
   "metadata": {
    "editable": true
   },
   "outputs": [],
   "source": []
  },
  {
   "cell_type": "code",
   "execution_count": null,
   "metadata": {
    "editable": true
   },
   "outputs": [],
   "source": []
  },
  {
   "cell_type": "code",
   "execution_count": null,
   "metadata": {
    "editable": true
   },
   "outputs": [],
   "source": []
  },
  {
   "cell_type": "code",
   "execution_count": null,
   "metadata": {
    "editable": true
   },
   "outputs": [],
   "source": []
  }
 ],
 "metadata": {
  "kernelspec": {
   "display_name": "Python 3",
   "language": "python",
   "name": "python3"
  },
  "language_info": {
   "codemirror_mode": {
    "name": "ipython",
    "version": 3
   },
   "file_extension": ".py",
   "mimetype": "text/x-python",
   "name": "python",
   "nbconvert_exporter": "python",
   "pygments_lexer": "ipython3",
   "version": "3.6.3"
  }
 },
 "nbformat": 4,
 "nbformat_minor": 4
}
